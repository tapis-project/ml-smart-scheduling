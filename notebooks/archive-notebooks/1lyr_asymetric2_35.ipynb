{
 "cells": [
  {
   "cell_type": "code",
   "execution_count": null,
   "id": "e032202f-1ab6-47ba-bf4c-8aa400937efa",
   "metadata": {},
   "outputs": [],
   "source": [
    "import sys\n",
    "sys.path.append('/home/jovyan/work/')\n",
    "sys.path.append('/home/jovyan/work/src')\n",
    "sys.path.append('/home/jovyan/work/src/data')\n",
    "sys.path.append('/home/jovyan/work/src/data_explore')\n",
    "sys.path.append('/home/jovyan/work/src/features')\n",
    "sys.path.append('/home/jovyan/work/src/models')\n",
    "sys.path.append('/home/jovyan/work/src/analysis')\n"
   ]
  },
  {
   "cell_type": "code",
   "execution_count": null,
   "id": "7c833ed9-b875-40df-82fd-bf6fea1b1ca0",
   "metadata": {},
   "outputs": [],
   "source": [
    "print(sys.path)"
   ]
  },
  {
   "cell_type": "code",
   "execution_count": null,
   "id": "39bac5e2-f19c-4fd1-8b90-e0c847aa2fea",
   "metadata": {},
   "outputs": [],
   "source": [
    "from src import data,data_explore,features\n",
    "from data import create_input_data\n",
    "from data_explore import explore_util\n",
    "from features import build_features\n",
    "from models import train_model,predict_model\n",
    "from analysis import analyze_pred"
   ]
  },
  {
   "cell_type": "code",
   "execution_count": null,
   "id": "8fba29ac-41e5-4388-b012-b47fd796f1c4",
   "metadata": {},
   "outputs": [],
   "source": [
    "#df = create_input_data.read_data(csv_file_name=\"../data/processed/past_25_completed_qm.csv\", parse_dates_col=[4,5,6])\n",
    "df = create_input_data.read_data(csv_file_name=\"../data/processed/correct_anon_past_25_completed_qm.csv\", parse_dates_col=[4,5,6])\n",
    "df"
   ]
  },
  {
   "cell_type": "code",
   "execution_count": null,
   "id": "72b88fe8-72e1-4312-80c9-86caa7639a76",
   "metadata": {},
   "outputs": [],
   "source": [
    "num_zeros, non_zeros = explore_util.get_num_of_zeros(df,'qm25')\n"
   ]
  },
  {
   "cell_type": "code",
   "execution_count": null,
   "id": "b673c55c-50ea-4552-a8c0-203b6934339a",
   "metadata": {},
   "outputs": [],
   "source": [
    "explore_util.explore_five_plots(df=df,col_name_list=['qm1','qm2','qm12','qm23','qm24'], num_col=5, color_list=['g','r','b','c','m'],lo=300, hi=400)"
   ]
  },
  {
   "cell_type": "code",
   "execution_count": null,
   "id": "fe27909b-e0b6-426a-a2c9-a281e704d113",
   "metadata": {},
   "outputs": [],
   "source": [
    "df = build_features.remove_default_cols(df)\n",
    "df"
   ]
  },
  {
   "cell_type": "code",
   "execution_count": null,
   "id": "57fe1404-4c42-4e66-8d86-984dccc9434d",
   "metadata": {},
   "outputs": [],
   "source": [
    "df = build_features.slice_df(df,1000,323216)\n",
    "df"
   ]
  },
  {
   "cell_type": "code",
   "execution_count": null,
   "id": "0af939c6-6822-490b-98b2-d56cfd6723c3",
   "metadata": {},
   "outputs": [],
   "source": [
    "### Remove the queue_minutes column from the training set\n",
    "X_historydata=build_features.remove_specific_col(df,'queue_minutes')\n",
    "Y_waittimedata=df['queue_minutes']"
   ]
  },
  {
   "cell_type": "code",
   "execution_count": null,
   "id": "f3f2a5f5-257e-4377-9226-bcc9d2282900",
   "metadata": {},
   "outputs": [],
   "source": [
    "X_historydata\n",
    "#Y_waittimedata"
   ]
  },
  {
   "cell_type": "code",
   "execution_count": null,
   "id": "5598d60d-0789-42b6-8dfb-c6668e6e68cb",
   "metadata": {},
   "outputs": [],
   "source": [
    "X_historydata_train_rm, X_historydata_test_rm, Y_waittimedata_train, Y_waittimedata_test=build_features.split_training_test_data(X_historydata, Y_waittimedata)"
   ]
  },
  {
   "cell_type": "code",
   "execution_count": null,
   "id": "3b738e69-656d-4dd9-a1b6-2aaaf705819f",
   "metadata": {},
   "outputs": [],
   "source": [
    "X_historydata_test = build_features.remove_specific_col(X_historydata_test_rm,'run_minutes')\n",
    "X_historydata_train = build_features.remove_specific_col(X_historydata_train_rm,'run_minutes')"
   ]
  },
  {
   "cell_type": "code",
   "execution_count": null,
   "id": "367350da-7979-447d-a7e7-2b3245de025e",
   "metadata": {},
   "outputs": [],
   "source": [
    "X_historydata_train"
   ]
  },
  {
   "cell_type": "code",
   "execution_count": null,
   "id": "462fc27c-631d-4342-9b5d-1527589fa9f7",
   "metadata": {},
   "outputs": [],
   "source": [
    "X_historydata_norm, scaler = build_features.standardization(X_historydata_train)"
   ]
  },
  {
   "cell_type": "code",
   "execution_count": null,
   "id": "702aec2e-fb66-4a11-958d-1097cab1bba4",
   "metadata": {},
   "outputs": [],
   "source": [
    "#h5_file=\"../models/25past_corrected_qm_model.h5\"\n",
    "model = train_model.create_model_with_asymmetric_loss_2(input_shape=32)\n",
    "#checkpoint_cb,early_stopping_cb = train_model.create_checkpoint_cb(h5_file=h5_file)\n",
    "#model, hist = train_model.train_model(X_historydata_norm, Y_waittimedata_train, model, epochs=150, batch_size=64, validation_spilt=0.2)\n",
    "early_stopping_cb = train_model.set_early_stopping()\n",
    "model, hist = train_model.train_model_cb(X_historydata_norm, Y_waittimedata_train, model, early_stopping_cb,epochs=150, batch_size=64, validation_spilt=0.2)"
   ]
  },
  {
   "cell_type": "code",
   "execution_count": null,
   "id": "81e89a58-275b-4756-86ef-dff1f8266307",
   "metadata": {},
   "outputs": [],
   "source": [
    "predict_model.evaluate(model,scaler,X_historydata_test, Y_waittimedata_test)"
   ]
  },
  {
   "cell_type": "code",
   "execution_count": null,
   "id": "431e65c4-bd46-4a26-aef0-82ba1804b4d3",
   "metadata": {},
   "outputs": [],
   "source": [
    "from importlib import reload\n",
    "reload(predict_model)\n",
    "y_pred = predict_model.predict_and_compare(model,scaler, X_historydata_test, Y_waittimedata_test)"
   ]
  },
  {
   "cell_type": "code",
   "execution_count": null,
   "id": "2d05fc8f-2777-40a5-b71e-16708725f614",
   "metadata": {},
   "outputs": [],
   "source": [
    "reload(predict_model)\n",
    "predict_model.compare_plots_pred_vs_true(Y_waittimedata_test, y_pred, 150, 200)"
   ]
  },
  {
   "cell_type": "code",
   "execution_count": null,
   "id": "6682ba9c-27bc-480c-9d24-deb99ec7c67a",
   "metadata": {},
   "outputs": [],
   "source": [
    "predict_model.compare_plots_pred_vs_true(Y_waittimedata_test, y_pred, 200,250)\n"
   ]
  },
  {
   "cell_type": "code",
   "execution_count": null,
   "id": "6d560062-6b56-4936-a5c4-2d94c6fc5a75",
   "metadata": {},
   "outputs": [],
   "source": [
    "predict_model.inspect_test_data(X_historydata_test,Y_waittimedata_test,y_pred,207,210, \"set 1: 207: 210\")\n",
    "predict_model.inspect_test_data(X_historydata_test,Y_waittimedata_test,y_pred,225,228, \"set2: 225-228\")\n",
    "predict_model.inspect_test_data(X_historydata_test,Y_waittimedata_test,y_pred,228, 231, \"set3: 228-231\")"
   ]
  },
  {
   "cell_type": "code",
   "execution_count": null,
   "id": "78a8dc7f-8309-43da-a589-613c05560a13",
   "metadata": {},
   "outputs": [],
   "source": [
    "print(X_historydata_test_rm)\n",
    "run_mins = X_historydata_test_rm[\"run_minutes\"]\n",
    "run_mins = run_mins.to_numpy()\n",
    "print(\"run_minutes\" + str(run_mins))\n",
    "nnodes = X_historydata_test[\"nnodes\"]\n",
    "nnodes = nnodes.to_numpy()\n",
    "print(\" nnodes : \" + str(nnodes))\n"
   ]
  },
  {
   "cell_type": "code",
   "execution_count": null,
   "id": "d1a0a9f5-7e18-4e99-b94d-e258f2c9179a",
   "metadata": {},
   "outputs": [],
   "source": [
    "reload(analyze_pred)\n",
    "analyze_pred.analysis_pred_vs_orig(2000,200, Y_waittimedata_test, y_pred.ravel(), nnodes,run_mins,\n",
    "                                   provision_time=20, tolerance_factor=3, print_flag=0)"
   ]
  },
  {
   "cell_type": "code",
   "execution_count": null,
   "id": "81a27c1e-d58d-4560-9e33-cd4d923d0279",
   "metadata": {},
   "outputs": [],
   "source": [
    "reload(analyze_pred)\n",
    "analyze_pred.analysis_pred_vs_orig(0,80554, Y_waittimedata_test, y_pred.ravel(), nnodes,run_mins,\n",
    "                                   provision_time=20, tolerance_factor=3, print_flag=0)"
   ]
  },
  {
   "cell_type": "code",
   "execution_count": null,
   "id": "9c424c76-c0fc-4694-ae1e-b7dad79418cb",
   "metadata": {},
   "outputs": [],
   "source": [
    "analyze_pred.analysis_pred_vs_orig(0,80554, Y_waittimedata_test, y_pred.ravel(), nnodes,run_mins,\n",
    "                                   provision_time=45, tolerance_factor=3, print_flag=0)"
   ]
  },
  {
   "cell_type": "code",
   "execution_count": null,
   "id": "42b9893d-a31b-434f-bcc5-3bc7f31dc5fc",
   "metadata": {},
   "outputs": [],
   "source": [
    "analyze_pred.analysis_pred_vs_orig(0,80554, Y_waittimedata_test, y_pred.ravel(), nnodes,run_mins,\n",
    "                                   provision_time=60, tolerance_factor=3, print_flag=0)"
   ]
  },
  {
   "cell_type": "code",
   "execution_count": null,
   "id": "dd866092-bb38-4385-8e27-7b4f92fc7cef",
   "metadata": {},
   "outputs": [],
   "source": [
    "reload(analyze_pred)\n",
    "analyze_pred.plot_pred_vs_orig(2000,50,Y_waittimedata_test,y_pred.ravel())"
   ]
  },
  {
   "cell_type": "code",
   "execution_count": null,
   "id": "db7c264c-d117-4d21-9ed6-5210b184018d",
   "metadata": {},
   "outputs": [],
   "source": [
    "reload(analyze_pred)\n",
    "from sklearn.metrics import r2_score,mean_absolute_error\n",
    "\n",
    "\n",
    "def analysis_pred(provision_time):\n",
    "    ptime = []\n",
    "    num_scheduled=[] \n",
    "    num_missed=[]\n",
    "    not_missed=[]\n",
    "    wrongly_scheduled=[]\n",
    "    total_num=[]\n",
    "    past_K=[]\n",
    "    r2_scores=[]\n",
    "    maes = []\n",
    "    provision_time, n_scheduled, n_missed, no_missed, wrong_scheduled, t_num = analyze_pred.analysis_pred(lo,offset, Y_waittimedata_test, y_pred.ravel(), nnodes,run_mins,\n",
    "                               provision_time=provision_time, tolerance_factor=tolerance_factor, print_flag=0)\n",
    "    past_K.append(\"25\")\n",
    "    ptime.append(provision_time)\n",
    "    num_scheduled.append(n_scheduled)\n",
    "    num_missed.append(n_missed)\n",
    "    not_missed.append(no_missed)\n",
    "    wrongly_scheduled.append(wrong_scheduled)\n",
    "    total_num.append(t_num)\n",
    "    r2s=r2_score(Y_waittimedata_test.to_numpy(),y_pred)\n",
    "    r2_scores.append(r2s)     \n",
    "    maes.append(mean_absolute_error(Y_waittimedata_test.to_numpy(),y_pred))\n",
    "    return past_K,ptime, num_scheduled, num_missed, not_missed, wrongly_scheduled, total_num,r2_scores,maes\n",
    "    "
   ]
  },
  {
   "cell_type": "code",
   "execution_count": null,
   "id": "1708043d-6189-4400-a970-58d308eb4785",
   "metadata": {},
   "outputs": [],
   "source": [
    "lo=0\n",
    "offset=80554\n",
    "provision_times=[20, 45, 60, 90]\n",
    "tolerance_factor=3\n",
    "ptime = []\n",
    "num_scheduled=[] \n",
    "num_missed=[]\n",
    "not_missed=[]\n",
    "wrongly_scheduled=[]\n",
    "total_num=[]\n",
    "past_K=[]\n",
    "print(\"asymetric loss function: 2 times penality for over-prediction\")\n",
    "for provision_time in provision_times:\n",
    "    print(\" ========= Provision time = \" + str(provision_time))\n",
    "    pastk, ptime, num_scheduled, num_missed, not_missed, wrongly_scheduled, total_num, r2_scores, maes = analysis_pred(provision_time)\n",
    "    rdf = analyze_pred.add_to_df(pastk, ptime, num_scheduled, num_missed, not_missed, wrongly_scheduled, total_num,r2_scores,maes)\n",
    "    print(rdf.to_string())"
   ]
  },
  {
   "cell_type": "code",
   "execution_count": null,
   "id": "e405f61b-00cd-48e2-b23c-f020a82440ca",
   "metadata": {},
   "outputs": [],
   "source": [
    "analyze_pred.plot_pred_vs_orig(5000,50,Y_waittimedata_test,y_pred.ravel())"
   ]
  },
  {
   "cell_type": "code",
   "execution_count": null,
   "id": "ba9b7ce4-99d1-41ea-8854-23082fb3bac9",
   "metadata": {},
   "outputs": [],
   "source": [
    "from sklearn.metrics import r2_score\n",
    "r2_score(Y_waittimedata_test.to_numpy(),y_pred)"
   ]
  },
  {
   "cell_type": "code",
   "execution_count": null,
   "id": "70e5f034-d54a-4d75-98ec-65ec9b263c74",
   "metadata": {},
   "outputs": [],
   "source": []
  }
 ],
 "metadata": {
  "kernelspec": {
   "display_name": "Python 3 (ipykernel)",
   "language": "python",
   "name": "python3"
  },
  "language_info": {
   "codemirror_mode": {
    "name": "ipython",
    "version": 3
   },
   "file_extension": ".py",
   "mimetype": "text/x-python",
   "name": "python",
   "nbconvert_exporter": "python",
   "pygments_lexer": "ipython3",
   "version": "3.11.4"
  }
 },
 "nbformat": 4,
 "nbformat_minor": 5
}
